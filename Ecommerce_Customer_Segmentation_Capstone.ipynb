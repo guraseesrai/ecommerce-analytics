{
  "cells": [
    {
      "cell_type": "markdown",
      "metadata": {
        "id": "view-in-github",
        "colab_type": "text"
      },
      "source": [
        "<a href=\"https://colab.research.google.com/github/guraseesrai/ecommerce-analytics/blob/main/Ecommerce_Customer_Segmentation_Capstone.ipynb\" target=\"_parent\"><img src=\"https://colab.research.google.com/assets/colab-badge.svg\" alt=\"Open In Colab\"/></a>"
      ]
    },
    {
      "cell_type": "markdown",
      "id": "ba0e6074",
      "metadata": {
        "id": "ba0e6074"
      },
      "source": [
        "# ML Capstone 1 - Part 1 E-Commerce Customer Segmentation"
      ]
    },
    {
      "cell_type": "markdown",
      "id": "55670281",
      "metadata": {
        "id": "55670281"
      },
      "source": [
        "### Dataset: Download CSV file from [here](https://drive.google.com/file/d/1Kyi1Akx299BFhdo77T2MmWg7fLRtMaXm/view?usp=sharing)\n",
        "\n",
        "### Context & Problem statement:\n",
        "\n",
        "In this project, we delve deep into the thriving sector of online retail by analyzing a transactional dataset from a UK-based retailer, available at the UCI Machine Learning Repository. This dataset documents all transactions between 2010 and 2011. Our primary objective is to amplify the efficiency of marketing strategies and boost sales through customer segmentation. We aim to transform the transactional data into a customer-centric dataset by creating new features that will facilitate the segmentation of customers into distinct groups using the K-means clustering algorithm. This segmentation will allow us to understand the distinct profiles and preferences of different customer groups. Building upon this, we intend to develop a recommendation system that will suggest top-selling products to customers within each segment who haven't purchased those items yet, ultimately enhancing marketing efficacy and fostering increased sales.\n",
        "\n",
        "### Objectives\n",
        "\n",
        "- Data Cleaning & Transformation: Clean the dataset by handling missing values, duplicates, and outliers, preparing it for effective clustering.\n",
        "- Feature Engineering: Develop new features based on the transactional data to create a customer-centric dataset, setting the foundation for customer segmentation.\n",
        "- Data Preprocessing: Undertake feature scaling and dimensionality reduction to streamline the data, enhancing the efficiency of the clustering process.\n",
        "- Customer Segmentation using K-Means Clustering: Segment customers into distinct groups using K-means, facilitating targeted marketing and personalized strategies.\n",
        "- Cluster Analysis & Evaluation: Analyze and profile each cluster to develop targeted marketing strategies and assess the quality of the clusters formed.\n",
        "- Recommendation System: Implement a system to recommend best-selling products to customers within the same cluster who haven't purchased those products, aiming to boost sales and marketing effectiveness."
      ]
    },
    {
      "cell_type": "markdown",
      "id": "42b15f8e",
      "metadata": {
        "id": "42b15f8e"
      },
      "source": [
        "## TODO: Please make use of Python, Pandas, Numpy, Matplotlib and relevant libraries to do the following:\n",
        "\n",
        "### Data Retrieval (1 pt)\n",
        "- Extracting the dataset from the source (e.g., CSV file)\n",
        "- Exploring the dataset structure, features\n",
        "- Understanding the context and significance of each feature\n",
        "\n",
        "### Data preprocessing (2 pts)\n",
        "- Cleaning the dataset to handle missing values, duplicates, and outliers\n",
        "- Encoding categorical variables and transforming data types as necessary\n",
        "\n",
        "### Feature Engineering & EDA (3 pts)\n",
        "- Feature engineering to create new variables(eg Date_since_last_purchase) and do Exploratory Data Analysis (EDA)\n",
        "- Identifying correlations and patterns in the data\n",
        "- Make use of 1-d and 2-d explorations to know your data better.\n",
        "\n",
        "### Effective Communication (2 pts)\n",
        "- Please make use of markdown cells to communicate your thought process, why did you think of performing a step? what was the observation from the visualization? etc.\n",
        "- Make sure the plots are correctly labelled.\n",
        "- The code should be commented so that it is readable for the reviewer."
      ]
    },
    {
      "cell_type": "markdown",
      "id": "2a6546ac",
      "metadata": {
        "id": "2a6546ac"
      },
      "source": [
        "### Grading and Important Instructions\n",
        "- Each of the above steps are mandatory and should be completed in good faith\n",
        "- Make sure before submitting that the code is in fully working condition\n",
        "- It is fine to make use of ChatGPT, stackoverflow type resources, just provide the reference links from where you got it\n",
        "- Debugging is an art, if you find yourself stuck with errors, take help of stackoverflow and ChatGPT to resolve the issue and if it's still unresolved, reach out to me for help.\n",
        "- You need to score atleast 7/10 to pass the project, anything less than that will be marked required, needing resubmission.\n",
        "- Feedback will be provided on 3 levels (Awesome, Suggestion, & Required). Required changes are mandatory to be made."
      ]
    },
    {
      "cell_type": "markdown",
      "id": "bf95784c",
      "metadata": {
        "id": "bf95784c"
      },
      "source": [
        "#### Write your code below and do not delete the above instructions"
      ]
    },
    {
      "cell_type": "code",
      "execution_count": 2,
      "id": "b59295ae",
      "metadata": {
        "id": "b59295ae",
        "colab": {
          "base_uri": "https://localhost:8080/",
          "height": 224
        },
        "outputId": "82b3fef7-2e70-49c6-952c-0be5f25ec35f"
      },
      "outputs": [
        {
          "output_type": "stream",
          "name": "stdout",
          "text": [
            "Drive already mounted at /content/drive; to attempt to forcibly remount, call drive.mount(\"/content/drive\", force_remount=True).\n"
          ]
        },
        {
          "output_type": "execute_result",
          "data": {
            "text/plain": [
              "  InvoiceNo StockCode                          Description  Quantity  \\\n",
              "0    536365    85123A   WHITE HANGING HEART T-LIGHT HOLDER         6   \n",
              "1    536365     71053                  WHITE METAL LANTERN         6   \n",
              "2    536365    84406B       CREAM CUPID HEARTS COAT HANGER         8   \n",
              "3    536365    84029G  KNITTED UNION FLAG HOT WATER BOTTLE         6   \n",
              "4    536365    84029E       RED WOOLLY HOTTIE WHITE HEART.         6   \n",
              "\n",
              "      InvoiceDate  UnitPrice  CustomerID         Country  \n",
              "0  12/1/2010 8:26       2.55     17850.0  United Kingdom  \n",
              "1  12/1/2010 8:26       3.39     17850.0  United Kingdom  \n",
              "2  12/1/2010 8:26       2.75     17850.0  United Kingdom  \n",
              "3  12/1/2010 8:26       3.39     17850.0  United Kingdom  \n",
              "4  12/1/2010 8:26       3.39     17850.0  United Kingdom  "
            ],
            "text/html": [
              "\n",
              "  <div id=\"df-cb742012-c112-4b01-a8c2-70561b02fcb7\" class=\"colab-df-container\">\n",
              "    <div>\n",
              "<style scoped>\n",
              "    .dataframe tbody tr th:only-of-type {\n",
              "        vertical-align: middle;\n",
              "    }\n",
              "\n",
              "    .dataframe tbody tr th {\n",
              "        vertical-align: top;\n",
              "    }\n",
              "\n",
              "    .dataframe thead th {\n",
              "        text-align: right;\n",
              "    }\n",
              "</style>\n",
              "<table border=\"1\" class=\"dataframe\">\n",
              "  <thead>\n",
              "    <tr style=\"text-align: right;\">\n",
              "      <th></th>\n",
              "      <th>InvoiceNo</th>\n",
              "      <th>StockCode</th>\n",
              "      <th>Description</th>\n",
              "      <th>Quantity</th>\n",
              "      <th>InvoiceDate</th>\n",
              "      <th>UnitPrice</th>\n",
              "      <th>CustomerID</th>\n",
              "      <th>Country</th>\n",
              "    </tr>\n",
              "  </thead>\n",
              "  <tbody>\n",
              "    <tr>\n",
              "      <th>0</th>\n",
              "      <td>536365</td>\n",
              "      <td>85123A</td>\n",
              "      <td>WHITE HANGING HEART T-LIGHT HOLDER</td>\n",
              "      <td>6</td>\n",
              "      <td>12/1/2010 8:26</td>\n",
              "      <td>2.55</td>\n",
              "      <td>17850.0</td>\n",
              "      <td>United Kingdom</td>\n",
              "    </tr>\n",
              "    <tr>\n",
              "      <th>1</th>\n",
              "      <td>536365</td>\n",
              "      <td>71053</td>\n",
              "      <td>WHITE METAL LANTERN</td>\n",
              "      <td>6</td>\n",
              "      <td>12/1/2010 8:26</td>\n",
              "      <td>3.39</td>\n",
              "      <td>17850.0</td>\n",
              "      <td>United Kingdom</td>\n",
              "    </tr>\n",
              "    <tr>\n",
              "      <th>2</th>\n",
              "      <td>536365</td>\n",
              "      <td>84406B</td>\n",
              "      <td>CREAM CUPID HEARTS COAT HANGER</td>\n",
              "      <td>8</td>\n",
              "      <td>12/1/2010 8:26</td>\n",
              "      <td>2.75</td>\n",
              "      <td>17850.0</td>\n",
              "      <td>United Kingdom</td>\n",
              "    </tr>\n",
              "    <tr>\n",
              "      <th>3</th>\n",
              "      <td>536365</td>\n",
              "      <td>84029G</td>\n",
              "      <td>KNITTED UNION FLAG HOT WATER BOTTLE</td>\n",
              "      <td>6</td>\n",
              "      <td>12/1/2010 8:26</td>\n",
              "      <td>3.39</td>\n",
              "      <td>17850.0</td>\n",
              "      <td>United Kingdom</td>\n",
              "    </tr>\n",
              "    <tr>\n",
              "      <th>4</th>\n",
              "      <td>536365</td>\n",
              "      <td>84029E</td>\n",
              "      <td>RED WOOLLY HOTTIE WHITE HEART.</td>\n",
              "      <td>6</td>\n",
              "      <td>12/1/2010 8:26</td>\n",
              "      <td>3.39</td>\n",
              "      <td>17850.0</td>\n",
              "      <td>United Kingdom</td>\n",
              "    </tr>\n",
              "  </tbody>\n",
              "</table>\n",
              "</div>\n",
              "    <div class=\"colab-df-buttons\">\n",
              "\n",
              "  <div class=\"colab-df-container\">\n",
              "    <button class=\"colab-df-convert\" onclick=\"convertToInteractive('df-cb742012-c112-4b01-a8c2-70561b02fcb7')\"\n",
              "            title=\"Convert this dataframe to an interactive table.\"\n",
              "            style=\"display:none;\">\n",
              "\n",
              "  <svg xmlns=\"http://www.w3.org/2000/svg\" height=\"24px\" viewBox=\"0 -960 960 960\">\n",
              "    <path d=\"M120-120v-720h720v720H120Zm60-500h600v-160H180v160Zm220 220h160v-160H400v160Zm0 220h160v-160H400v160ZM180-400h160v-160H180v160Zm440 0h160v-160H620v160ZM180-180h160v-160H180v160Zm440 0h160v-160H620v160Z\"/>\n",
              "  </svg>\n",
              "    </button>\n",
              "\n",
              "  <style>\n",
              "    .colab-df-container {\n",
              "      display:flex;\n",
              "      gap: 12px;\n",
              "    }\n",
              "\n",
              "    .colab-df-convert {\n",
              "      background-color: #E8F0FE;\n",
              "      border: none;\n",
              "      border-radius: 50%;\n",
              "      cursor: pointer;\n",
              "      display: none;\n",
              "      fill: #1967D2;\n",
              "      height: 32px;\n",
              "      padding: 0 0 0 0;\n",
              "      width: 32px;\n",
              "    }\n",
              "\n",
              "    .colab-df-convert:hover {\n",
              "      background-color: #E2EBFA;\n",
              "      box-shadow: 0px 1px 2px rgba(60, 64, 67, 0.3), 0px 1px 3px 1px rgba(60, 64, 67, 0.15);\n",
              "      fill: #174EA6;\n",
              "    }\n",
              "\n",
              "    .colab-df-buttons div {\n",
              "      margin-bottom: 4px;\n",
              "    }\n",
              "\n",
              "    [theme=dark] .colab-df-convert {\n",
              "      background-color: #3B4455;\n",
              "      fill: #D2E3FC;\n",
              "    }\n",
              "\n",
              "    [theme=dark] .colab-df-convert:hover {\n",
              "      background-color: #434B5C;\n",
              "      box-shadow: 0px 1px 3px 1px rgba(0, 0, 0, 0.15);\n",
              "      filter: drop-shadow(0px 1px 2px rgba(0, 0, 0, 0.3));\n",
              "      fill: #FFFFFF;\n",
              "    }\n",
              "  </style>\n",
              "\n",
              "    <script>\n",
              "      const buttonEl =\n",
              "        document.querySelector('#df-cb742012-c112-4b01-a8c2-70561b02fcb7 button.colab-df-convert');\n",
              "      buttonEl.style.display =\n",
              "        google.colab.kernel.accessAllowed ? 'block' : 'none';\n",
              "\n",
              "      async function convertToInteractive(key) {\n",
              "        const element = document.querySelector('#df-cb742012-c112-4b01-a8c2-70561b02fcb7');\n",
              "        const dataTable =\n",
              "          await google.colab.kernel.invokeFunction('convertToInteractive',\n",
              "                                                    [key], {});\n",
              "        if (!dataTable) return;\n",
              "\n",
              "        const docLinkHtml = 'Like what you see? Visit the ' +\n",
              "          '<a target=\"_blank\" href=https://colab.research.google.com/notebooks/data_table.ipynb>data table notebook</a>'\n",
              "          + ' to learn more about interactive tables.';\n",
              "        element.innerHTML = '';\n",
              "        dataTable['output_type'] = 'display_data';\n",
              "        await google.colab.output.renderOutput(dataTable, element);\n",
              "        const docLink = document.createElement('div');\n",
              "        docLink.innerHTML = docLinkHtml;\n",
              "        element.appendChild(docLink);\n",
              "      }\n",
              "    </script>\n",
              "  </div>\n",
              "\n",
              "\n",
              "    <div id=\"df-e43bcaa3-ebfc-4c5b-b166-a01eb7587a13\">\n",
              "      <button class=\"colab-df-quickchart\" onclick=\"quickchart('df-e43bcaa3-ebfc-4c5b-b166-a01eb7587a13')\"\n",
              "                title=\"Suggest charts\"\n",
              "                style=\"display:none;\">\n",
              "\n",
              "<svg xmlns=\"http://www.w3.org/2000/svg\" height=\"24px\"viewBox=\"0 0 24 24\"\n",
              "     width=\"24px\">\n",
              "    <g>\n",
              "        <path d=\"M19 3H5c-1.1 0-2 .9-2 2v14c0 1.1.9 2 2 2h14c1.1 0 2-.9 2-2V5c0-1.1-.9-2-2-2zM9 17H7v-7h2v7zm4 0h-2V7h2v10zm4 0h-2v-4h2v4z\"/>\n",
              "    </g>\n",
              "</svg>\n",
              "      </button>\n",
              "\n",
              "<style>\n",
              "  .colab-df-quickchart {\n",
              "      --bg-color: #E8F0FE;\n",
              "      --fill-color: #1967D2;\n",
              "      --hover-bg-color: #E2EBFA;\n",
              "      --hover-fill-color: #174EA6;\n",
              "      --disabled-fill-color: #AAA;\n",
              "      --disabled-bg-color: #DDD;\n",
              "  }\n",
              "\n",
              "  [theme=dark] .colab-df-quickchart {\n",
              "      --bg-color: #3B4455;\n",
              "      --fill-color: #D2E3FC;\n",
              "      --hover-bg-color: #434B5C;\n",
              "      --hover-fill-color: #FFFFFF;\n",
              "      --disabled-bg-color: #3B4455;\n",
              "      --disabled-fill-color: #666;\n",
              "  }\n",
              "\n",
              "  .colab-df-quickchart {\n",
              "    background-color: var(--bg-color);\n",
              "    border: none;\n",
              "    border-radius: 50%;\n",
              "    cursor: pointer;\n",
              "    display: none;\n",
              "    fill: var(--fill-color);\n",
              "    height: 32px;\n",
              "    padding: 0;\n",
              "    width: 32px;\n",
              "  }\n",
              "\n",
              "  .colab-df-quickchart:hover {\n",
              "    background-color: var(--hover-bg-color);\n",
              "    box-shadow: 0 1px 2px rgba(60, 64, 67, 0.3), 0 1px 3px 1px rgba(60, 64, 67, 0.15);\n",
              "    fill: var(--button-hover-fill-color);\n",
              "  }\n",
              "\n",
              "  .colab-df-quickchart-complete:disabled,\n",
              "  .colab-df-quickchart-complete:disabled:hover {\n",
              "    background-color: var(--disabled-bg-color);\n",
              "    fill: var(--disabled-fill-color);\n",
              "    box-shadow: none;\n",
              "  }\n",
              "\n",
              "  .colab-df-spinner {\n",
              "    border: 2px solid var(--fill-color);\n",
              "    border-color: transparent;\n",
              "    border-bottom-color: var(--fill-color);\n",
              "    animation:\n",
              "      spin 1s steps(1) infinite;\n",
              "  }\n",
              "\n",
              "  @keyframes spin {\n",
              "    0% {\n",
              "      border-color: transparent;\n",
              "      border-bottom-color: var(--fill-color);\n",
              "      border-left-color: var(--fill-color);\n",
              "    }\n",
              "    20% {\n",
              "      border-color: transparent;\n",
              "      border-left-color: var(--fill-color);\n",
              "      border-top-color: var(--fill-color);\n",
              "    }\n",
              "    30% {\n",
              "      border-color: transparent;\n",
              "      border-left-color: var(--fill-color);\n",
              "      border-top-color: var(--fill-color);\n",
              "      border-right-color: var(--fill-color);\n",
              "    }\n",
              "    40% {\n",
              "      border-color: transparent;\n",
              "      border-right-color: var(--fill-color);\n",
              "      border-top-color: var(--fill-color);\n",
              "    }\n",
              "    60% {\n",
              "      border-color: transparent;\n",
              "      border-right-color: var(--fill-color);\n",
              "    }\n",
              "    80% {\n",
              "      border-color: transparent;\n",
              "      border-right-color: var(--fill-color);\n",
              "      border-bottom-color: var(--fill-color);\n",
              "    }\n",
              "    90% {\n",
              "      border-color: transparent;\n",
              "      border-bottom-color: var(--fill-color);\n",
              "    }\n",
              "  }\n",
              "</style>\n",
              "\n",
              "      <script>\n",
              "        async function quickchart(key) {\n",
              "          const quickchartButtonEl =\n",
              "            document.querySelector('#' + key + ' button');\n",
              "          quickchartButtonEl.disabled = true;  // To prevent multiple clicks.\n",
              "          quickchartButtonEl.classList.add('colab-df-spinner');\n",
              "          try {\n",
              "            const charts = await google.colab.kernel.invokeFunction(\n",
              "                'suggestCharts', [key], {});\n",
              "          } catch (error) {\n",
              "            console.error('Error during call to suggestCharts:', error);\n",
              "          }\n",
              "          quickchartButtonEl.classList.remove('colab-df-spinner');\n",
              "          quickchartButtonEl.classList.add('colab-df-quickchart-complete');\n",
              "        }\n",
              "        (() => {\n",
              "          let quickchartButtonEl =\n",
              "            document.querySelector('#df-e43bcaa3-ebfc-4c5b-b166-a01eb7587a13 button');\n",
              "          quickchartButtonEl.style.display =\n",
              "            google.colab.kernel.accessAllowed ? 'block' : 'none';\n",
              "        })();\n",
              "      </script>\n",
              "    </div>\n",
              "\n",
              "    </div>\n",
              "  </div>\n"
            ],
            "application/vnd.google.colaboratory.intrinsic+json": {
              "type": "dataframe",
              "variable_name": "df"
            }
          },
          "metadata": {},
          "execution_count": 2
        }
      ],
      "source": [
        "from google.colab import drive\n",
        "drive.mount('/content/drive')\n",
        "\n",
        "# Load dataset\n",
        "import pandas as pd\n",
        "\n",
        "file_path = '/content/drive/MyDrive/DA/ecommerce_data.csv'\n",
        "df = pd.read_csv(file_path, encoding='ISO-8859-1')\n",
        "df.head()"
      ]
    },
    {
      "cell_type": "code",
      "execution_count": 3,
      "id": "eeb68ee1",
      "metadata": {
        "id": "eeb68ee1",
        "colab": {
          "base_uri": "https://localhost:8080/",
          "height": 596
        },
        "outputId": "3fd811ef-1b35-4d58-dfee-3e4e4ee9f62b"
      },
      "outputs": [
        {
          "output_type": "stream",
          "name": "stdout",
          "text": [
            "<class 'pandas.core.frame.DataFrame'>\n",
            "RangeIndex: 541909 entries, 0 to 541908\n",
            "Data columns (total 8 columns):\n",
            " #   Column       Non-Null Count   Dtype  \n",
            "---  ------       --------------   -----  \n",
            " 0   InvoiceNo    541909 non-null  object \n",
            " 1   StockCode    541909 non-null  object \n",
            " 2   Description  540455 non-null  object \n",
            " 3   Quantity     541909 non-null  int64  \n",
            " 4   InvoiceDate  541909 non-null  object \n",
            " 5   UnitPrice    541909 non-null  float64\n",
            " 6   CustomerID   406829 non-null  float64\n",
            " 7   Country      541909 non-null  object \n",
            "dtypes: float64(2), int64(1), object(5)\n",
            "memory usage: 33.1+ MB\n"
          ]
        },
        {
          "output_type": "execute_result",
          "data": {
            "text/plain": [
              "InvoiceNo      25900\n",
              "StockCode       4070\n",
              "Description     4223\n",
              "Quantity         722\n",
              "InvoiceDate    23260\n",
              "UnitPrice       1630\n",
              "CustomerID      4372\n",
              "Country           38\n",
              "dtype: int64"
            ],
            "text/html": [
              "<div>\n",
              "<style scoped>\n",
              "    .dataframe tbody tr th:only-of-type {\n",
              "        vertical-align: middle;\n",
              "    }\n",
              "\n",
              "    .dataframe tbody tr th {\n",
              "        vertical-align: top;\n",
              "    }\n",
              "\n",
              "    .dataframe thead th {\n",
              "        text-align: right;\n",
              "    }\n",
              "</style>\n",
              "<table border=\"1\" class=\"dataframe\">\n",
              "  <thead>\n",
              "    <tr style=\"text-align: right;\">\n",
              "      <th></th>\n",
              "      <th>0</th>\n",
              "    </tr>\n",
              "  </thead>\n",
              "  <tbody>\n",
              "    <tr>\n",
              "      <th>InvoiceNo</th>\n",
              "      <td>25900</td>\n",
              "    </tr>\n",
              "    <tr>\n",
              "      <th>StockCode</th>\n",
              "      <td>4070</td>\n",
              "    </tr>\n",
              "    <tr>\n",
              "      <th>Description</th>\n",
              "      <td>4223</td>\n",
              "    </tr>\n",
              "    <tr>\n",
              "      <th>Quantity</th>\n",
              "      <td>722</td>\n",
              "    </tr>\n",
              "    <tr>\n",
              "      <th>InvoiceDate</th>\n",
              "      <td>23260</td>\n",
              "    </tr>\n",
              "    <tr>\n",
              "      <th>UnitPrice</th>\n",
              "      <td>1630</td>\n",
              "    </tr>\n",
              "    <tr>\n",
              "      <th>CustomerID</th>\n",
              "      <td>4372</td>\n",
              "    </tr>\n",
              "    <tr>\n",
              "      <th>Country</th>\n",
              "      <td>38</td>\n",
              "    </tr>\n",
              "  </tbody>\n",
              "</table>\n",
              "</div><br><label><b>dtype:</b> int64</label>"
            ]
          },
          "metadata": {},
          "execution_count": 3
        }
      ],
      "source": [
        "# Overview of the dataset\n",
        "df.info()\n",
        "\n",
        "# Summary statistics for numeric columns\n",
        "df.describe()\n",
        "\n",
        "# Check for missing values\n",
        "df.isnull().sum()\n",
        "\n",
        "# Display unique values per column (optional quick scan)\n",
        "df.nunique()"
      ]
    },
    {
      "cell_type": "markdown",
      "source": [
        "## 1. Data Retrieval\n",
        "\n",
        "In this step, we load the E-Commerce transactional dataset from Google Drive. This dataset contains all online transactions for a UK-based retail company between 2010 and 2011. It will be used for customer segmentation and recommendations.\n",
        "\n",
        "We used `pandas.read_csv()` with `ISO-8859-1` encoding to correctly parse special characters (e.g., £). The dataset was successfully loaded and displayed using `.head()` and `.info()` to understand its structure.\n",
        "\n",
        "### Dataset Columns Overview:\n",
        "- **InvoiceNo**: Invoice number. Each invoice represents a transaction.\n",
        "- **StockCode**: Product (item) code.\n",
        "- **Description**: Product name.\n",
        "- **Quantity**: Quantity of the product purchased per transaction.\n",
        "- **InvoiceDate**: Date and time when the invoice was generated.\n",
        "- **UnitPrice**: Price per unit of the product.\n",
        "- **CustomerID**: A unique identifier for each customer.\n",
        "- **Country**: Country of the customer.\n",
        "\n",
        "### Initial Observations:\n",
        "- The dataset contains **541,909** rows and **8 columns**.\n",
        "- Some fields such as `CustomerID` and `Description` contain missing values.\n",
        "- Data types for `InvoiceDate` and `CustomerID` will need adjustment for further analysis.\n",
        "\n",
        "This initial inspection is crucial for identifying data quality issues and guiding the cleaning process in the next step.\n"
      ],
      "metadata": {
        "id": "mEfzcnUeQCZY"
      },
      "id": "mEfzcnUeQCZY"
    },
    {
      "cell_type": "code",
      "source": [
        "# Drop rows with missing CustomerID - essential for customer-level segmentation\n",
        "df = df.dropna(subset=['CustomerID'])\n",
        "\n",
        "# Drop rows with missing product descriptions (optional: you can impute, but we drop for simplicity)\n",
        "df = df.dropna(subset=['Description'])\n",
        "\n",
        "# Remove rows with Quantity <= 0 or UnitPrice <= 0 (likely returns or errors)\n",
        "df = df[(df['Quantity'] > 0) & (df['UnitPrice'] > 0)]\n",
        "\n",
        "# Drop duplicate rows\n",
        "df = df.drop_duplicates()\n",
        "\n",
        "# Convert InvoiceDate to datetime format\n",
        "df['InvoiceDate'] = pd.to_datetime(df['InvoiceDate'])\n",
        "\n",
        "# Convert CustomerID to string for categorical grouping\n",
        "df['CustomerID'] = df['CustomerID'].astype(str)\n",
        "\n",
        "# Optional: check for remaining missing values\n",
        "print(df.isnull().sum())\n"
      ],
      "metadata": {
        "colab": {
          "base_uri": "https://localhost:8080/"
        },
        "id": "ArWaEjA-PYFb",
        "outputId": "016d04e7-c71d-4162-b8df-40fff39b72f5"
      },
      "id": "ArWaEjA-PYFb",
      "execution_count": 4,
      "outputs": [
        {
          "output_type": "stream",
          "name": "stdout",
          "text": [
            "InvoiceNo      0\n",
            "StockCode      0\n",
            "Description    0\n",
            "Quantity       0\n",
            "InvoiceDate    0\n",
            "UnitPrice      0\n",
            "CustomerID     0\n",
            "Country        0\n",
            "dtype: int64\n"
          ]
        }
      ]
    },
    {
      "cell_type": "markdown",
      "source": [
        "###  Post-Cleaning Validation\n",
        "\n",
        "After performing the cleaning steps, we rechecked the dataset for any remaining missing values. The output below shows that **all columns now have 0 missing values**, confirming that the dataset is clean and consistent:\n",
        "\n"
      ],
      "metadata": {
        "id": "aPJ2wvLeQeGm"
      },
      "id": "aPJ2wvLeQeGm"
    },
    {
      "cell_type": "code",
      "source": [
        "import datetime as dt\n",
        "\n",
        "# Snapshot date = day after the last invoice\n",
        "snapshot_date = df['InvoiceDate'].max() + dt.timedelta(days=1)\n",
        "\n",
        "# Aggregate data by CustomerID to compute Recency, Frequency, Monetary\n",
        "rfm = df.groupby('CustomerID').agg({\n",
        "    'InvoiceDate': lambda x: (snapshot_date - x.max()).days,    # Recency\n",
        "    'InvoiceNo': 'nunique',                                     # Frequency\n",
        "    'Quantity': 'sum',                                          # Total Quantity\n",
        "    'UnitPrice': 'mean'                                         # Avg unit price\n",
        "}).reset_index()\n",
        "\n",
        "# Rename columns for clarity\n",
        "rfm.columns = ['CustomerID', 'Recency', 'Frequency', 'TotalQuantity', 'AvgUnitPrice']\n",
        "\n",
        "# Optional: Calculate monetary value (Revenue)\n",
        "df['TotalPrice'] = df['Quantity'] * df['UnitPrice']\n",
        "monetary = df.groupby('CustomerID')['TotalPrice'].sum().reset_index()\n",
        "rfm = rfm.merge(monetary, on='CustomerID')\n",
        "rfm.rename(columns={'TotalPrice': 'MonetaryValue'}, inplace=True)"
      ],
      "metadata": {
        "id": "lnxt1lwUQSax"
      },
      "id": "lnxt1lwUQSax",
      "execution_count": 5,
      "outputs": []
    },
    {
      "cell_type": "code",
      "source": [
        "import matplotlib.pyplot as plt\n",
        "\n",
        "rfm[['Recency', 'Frequency', 'MonetaryValue']].hist(bins=20, figsize=(12, 6))\n",
        "plt.suptitle(\"Distribution of RFM Features\", fontsize=16)\n",
        "plt.show()\n"
      ],
      "metadata": {
        "colab": {
          "base_uri": "https://localhost:8080/",
          "height": 582
        },
        "id": "E92ASSQgQodr",
        "outputId": "9450451b-8647-45c9-aab5-39d33ccf865f"
      },
      "id": "E92ASSQgQodr",
      "execution_count": 6,
      "outputs": [
        {
          "output_type": "display_data",
          "data": {
            "text/plain": [
              "<Figure size 1200x600 with 4 Axes>"
            ],
            "image/png": "[encoded data removed]"
          },
          "metadata": {}
        }
      ]
    },
    {
      "cell_type": "code",
      "source": [
        "import seaborn as sns\n",
        "\n",
        "# Recency vs Frequency\n",
        "plt.figure(figsize=(6,4))\n",
        "sns.scatterplot(x='Recency', y='Frequency', data=rfm)\n",
        "plt.title(\"Recency vs Frequency\")\n",
        "plt.show()\n",
        "\n",
        "# Monetary vs Frequency\n",
        "plt.figure(figsize=(6,4))\n",
        "sns.scatterplot(x='MonetaryValue', y='Frequency', data=rfm)\n",
        "plt.title(\"Monetary Value vs Frequency\")\n",
        "plt.show()\n"
      ],
      "metadata": {
        "colab": {
          "base_uri": "https://localhost:8080/",
          "height": 803
        },
        "id": "h7A0Kb0EQqwi",
        "outputId": "44daabea-d602-43ca-ec6f-d87af138438f"
      },
      "id": "h7A0Kb0EQqwi",
      "execution_count": 7,
      "outputs": [
        {
          "output_type": "display_data",
          "data": {
            "text/plain": [
              "<Figure size 600x400 with 1 Axes>"
            ],
            "image/png": "[encoded data removed]"
          },
          "metadata": {}
        },
        {
          "output_type": "display_data",
          "data": {
            "text/plain": [
              "<Figure size 600x400 with 1 Axes>"
            ],
            "image/png": "[encoded data removed]"
          },
          "metadata": {}
        }
      ]
    },
    {
      "cell_type": "code",
      "source": [],
      "metadata": {
        "id": "Q3huyD2xRBjS"
      },
      "id": "Q3huyD2xRBjS",
      "execution_count": null,
      "outputs": []
    },
    {
      "cell_type": "markdown",
      "source": [
        "## 3. Feature Engineering & EDA (3 pts)\n",
        "\n",
        "To better understand customer behavior and prepare the data for clustering, we engineered several new features based on the transactional data.\n",
        "\n",
        "###  Feature Engineering (RFM Model)\n",
        "\n",
        "We created a customer-centric dataset with the following key features:\n",
        "\n",
        "- **Recency**: Days since the customer’s most recent purchase (calculated from the latest invoice date).\n",
        "- **Frequency**: Total number of unique purchase transactions per customer.\n",
        "- **Monetary Value**: Total amount spent by the customer (`Quantity * UnitPrice`).\n",
        "- **Total Quantity** and **Average Unit Price** were also calculated for added insights.\n",
        "\n",
        "---\n",
        "\n",
        "###  Exploratory Data Analysis (EDA)\n",
        "\n",
        "#### (1) Distribution Analysis (1D)\n",
        "The histograms of Recency, Frequency, and Monetary Value show:\n",
        "\n",
        "- **Recency**: Highly right-skewed — most customers made purchases recently, with fewer showing long inactivity.\n",
        "- **Frequency**: Right-skewed — most customers have low transaction counts, with few very frequent buyers.\n",
        "- **Monetary Value**: Also heavily skewed — most customers spend modest amounts, with a few contributing significantly to revenue.\n",
        "\n",
        "This skewness is typical in real-world retail data and justifies scaling and clustering methods later.\n",
        "\n",
        "#### (2) Relationship Analysis (2D)\n",
        "- **Recency vs Frequency**: There’s a negative trend — more frequent customers tend to be more recent, indicating loyalty.\n",
        "- **Monetary Value vs Frequency**: As expected, higher frequency generally correlates with higher spending, though some customers spend a lot with fewer purchases.\n",
        "\n",
        "These plots help us understand customer segments visually and validate the relevance of our engineered features.\n",
        "\n",
        "---\n",
        "\n",
        "Next, we will scale these features and apply K-Means clustering to segment the customers into meaningful groups.\n"
      ],
      "metadata": {
        "id": "9VUO2hVFQ6vg"
      },
      "id": "9VUO2hVFQ6vg"
    },
    {
      "cell_type": "markdown",
      "source": [
        "# ML Capstone 1 - Part 2 E-Commerce Customer Segmentation"
      ],
      "metadata": {
        "id": "okIeDermRkGD"
      },
      "id": "okIeDermRkGD"
    },
    {
      "cell_type": "markdown",
      "source": [
        " ## TODO\n",
        "\n",
        " ### Feature Selection\n",
        "- Selecting relevant features for segmentation and classification based on EDA insights\n",
        "- Scaling numerical features and encoding categorical variables\n",
        "\n",
        "### Model Preparation\n",
        "- Preparing the dataset for clustering algorithms and classification models\n"
      ],
      "metadata": {
        "id": "sqxqw9sDRot5"
      },
      "id": "sqxqw9sDRot5"
    },
    {
      "cell_type": "markdown",
      "source": [
        "### Grading and Important Instructions\n",
        "- Each of the above steps are mandatory and should be completed in good faith\n",
        "- Make sure before submitting that the code is in fully working condition\n",
        "- It is fine to make use of ChatGPT, stackoverflow type resources, just provide the reference links from where you got it\n",
        "- Debugging is an art, if you find yourself stuck with errors, take help of stackoverflow and ChatGPT to resolve the issue and if it's still unresolved, reach out to me for help.\n",
        "- You need to score atleast 7/10 to pass the project, anything less than that will be marked required, needing resubmission.\n",
        "- Feedback will be provided on 3 levels (Awesome, Suggestion, & Required). Required changes are mandatory to be made.\n",
        "- For submission, please upload the project on github and share the link to the file with us through LMS."
      ],
      "metadata": {
        "id": "AXrBPfpXRsZf"
      },
      "id": "AXrBPfpXRsZf"
    },
    {
      "cell_type": "markdown",
      "source": [
        "#### Write your code below and do not delete the above instructions\n",
        "\n",
        "---\n",
        "\n"
      ],
      "metadata": {
        "id": "xen9S8pfRtKT"
      },
      "id": "xen9S8pfRtKT"
    },
    {
      "cell_type": "code",
      "source": [
        "# Select features for segmentation\n",
        "features = rfm[['Recency', 'Frequency', 'MonetaryValue']]\n"
      ],
      "metadata": {
        "id": "tfUqbUfiRwEC"
      },
      "id": "tfUqbUfiRwEC",
      "execution_count": 8,
      "outputs": []
    },
    {
      "cell_type": "code",
      "source": [
        "from sklearn.preprocessing import StandardScaler\n",
        "\n",
        "scaler = StandardScaler()\n",
        "scaled_features = scaler.fit_transform(features)\n"
      ],
      "metadata": {
        "id": "ybNiRjm_SBZm"
      },
      "id": "ybNiRjm_SBZm",
      "execution_count": 9,
      "outputs": []
    },
    {
      "cell_type": "markdown",
      "source": [
        "## Part 2: Feature Selection & Scaling 🔧\n",
        "\n",
        "###  Feature Selection\n",
        "\n",
        "Based on the RFM analysis and EDA insights, we selected the following features for segmentation:\n",
        "- **Recency**: How recently a customer made a purchase\n",
        "- **Frequency**: How often they make purchases\n",
        "- **Monetary Value**: How much they spend\n",
        "\n",
        "These features capture the core behavioral patterns of customers, making them ideal for unsupervised clustering (e.g., K-Means).\n",
        "\n",
        "###  Feature Scaling\n",
        "\n",
        "We used **StandardScaler** to normalize the numerical features. Since K-Means clustering relies on distance calculations, unscaled features (like MonetaryValue being in thousands vs Recency in days) could bias the results.\n",
        "\n",
        "The scaled features are now ready for clustering.\n"
      ],
      "metadata": {
        "id": "0Bt-s18fSHv1"
      },
      "id": "0Bt-s18fSHv1"
    },
    {
      "cell_type": "code",
      "source": [
        "# Final feature set for clustering\n",
        "X_cluster = scaled_features  # Already scaled using StandardScaler\n",
        "from sklearn.cluster import KMeans\n",
        "\n",
        "# Apply K-Means with k=4 (you can change this after elbow method)\n",
        "kmeans = KMeans(n_clusters=4, random_state=42)\n",
        "rfm['Cluster'] = kmeans.fit_predict(scaled_features)\n",
        "\n",
        "# View sample results\n",
        "rfm.head()\n"
      ],
      "metadata": {
        "colab": {
          "base_uri": "https://localhost:8080/",
          "height": 206
        },
        "id": "OBxb0mkJSDcy",
        "outputId": "c8e82f34-4607-4654-eb5c-019f77187f69"
      },
      "id": "OBxb0mkJSDcy",
      "execution_count": 14,
      "outputs": [
        {
          "output_type": "execute_result",
          "data": {
            "text/plain": [
              "  CustomerID  Recency  Frequency  TotalQuantity  AvgUnitPrice  MonetaryValue  \\\n",
              "0    12346.0      326          1          74215      1.040000       77183.60   \n",
              "1    12347.0        2          7           2458      2.644011        4310.00   \n",
              "2    12348.0       75          4           2341      5.764839        1797.24   \n",
              "3    12349.0       19          1            631      8.289041        1757.55   \n",
              "4    12350.0      310          1            197      3.841176         334.40   \n",
              "\n",
              "   Cluster  \n",
              "0        3  \n",
              "1        0  \n",
              "2        0  \n",
              "3        0  \n",
              "4        1  "
            ],
            "text/html": [
              "\n",
              "  <div id=\"df-09a4742d-9a29-4ca7-9b43-34437d6dc4b0\" class=\"colab-df-container\">\n",
              "    <div>\n",
              "<style scoped>\n",
              "    .dataframe tbody tr th:only-of-type {\n",
              "        vertical-align: middle;\n",
              "    }\n",
              "\n",
              "    .dataframe tbody tr th {\n",
              "        vertical-align: top;\n",
              "    }\n",
              "\n",
              "    .dataframe thead th {\n",
              "        text-align: right;\n",
              "    }\n",
              "</style>\n",
              "<table border=\"1\" class=\"dataframe\">\n",
              "  <thead>\n",
              "    <tr style=\"text-align: right;\">\n",
              "      <th></th>\n",
              "      <th>CustomerID</th>\n",
              "      <th>Recency</th>\n",
              "      <th>Frequency</th>\n",
              "      <th>TotalQuantity</th>\n",
              "      <th>AvgUnitPrice</th>\n",
              "      <th>MonetaryValue</th>\n",
              "      <th>Cluster</th>\n",
              "    </tr>\n",
              "  </thead>\n",
              "  <tbody>\n",
              "    <tr>\n",
              "      <th>0</th>\n",
              "      <td>12346.0</td>\n",
              "      <td>326</td>\n",
              "      <td>1</td>\n",
              "      <td>74215</td>\n",
              "      <td>1.040000</td>\n",
              "      <td>77183.60</td>\n",
              "      <td>3</td>\n",
              "    </tr>\n",
              "    <tr>\n",
              "      <th>1</th>\n",
              "      <td>12347.0</td>\n",
              "      <td>2</td>\n",
              "      <td>7</td>\n",
              "      <td>2458</td>\n",
              "      <td>2.644011</td>\n",
              "      <td>4310.00</td>\n",
              "      <td>0</td>\n",
              "    </tr>\n",
              "    <tr>\n",
              "      <th>2</th>\n",
              "      <td>12348.0</td>\n",
              "      <td>75</td>\n",
              "      <td>4</td>\n",
              "      <td>2341</td>\n",
              "      <td>5.764839</td>\n",
              "      <td>1797.24</td>\n",
              "      <td>0</td>\n",
              "    </tr>\n",
              "    <tr>\n",
              "      <th>3</th>\n",
              "      <td>12349.0</td>\n",
              "      <td>19</td>\n",
              "      <td>1</td>\n",
              "      <td>631</td>\n",
              "      <td>8.289041</td>\n",
              "      <td>1757.55</td>\n",
              "      <td>0</td>\n",
              "    </tr>\n",
              "    <tr>\n",
              "      <th>4</th>\n",
              "      <td>12350.0</td>\n",
              "      <td>310</td>\n",
              "      <td>1</td>\n",
              "      <td>197</td>\n",
              "      <td>3.841176</td>\n",
              "      <td>334.40</td>\n",
              "      <td>1</td>\n",
              "    </tr>\n",
              "  </tbody>\n",
              "</table>\n",
              "</div>\n",
              "    <div class=\"colab-df-buttons\">\n",
              "\n",
              "  <div class=\"colab-df-container\">\n",
              "    <button class=\"colab-df-convert\" onclick=\"convertToInteractive('df-09a4742d-9a29-4ca7-9b43-34437d6dc4b0')\"\n",
              "            title=\"Convert this dataframe to an interactive table.\"\n",
              "            style=\"display:none;\">\n",
              "\n",
              "  <svg xmlns=\"http://www.w3.org/2000/svg\" height=\"24px\" viewBox=\"0 -960 960 960\">\n",
              "    <path d=\"M120-120v-720h720v720H120Zm60-500h600v-160H180v160Zm220 220h160v-160H400v160Zm0 220h160v-160H400v160ZM180-400h160v-160H180v160Zm440 0h160v-160H620v160ZM180-180h160v-160H180v160Zm440 0h160v-160H620v160Z\"/>\n",
              "  </svg>\n",
              "    </button>\n",
              "\n",
              "  <style>\n",
              "    .colab-df-container {\n",
              "      display:flex;\n",
              "      gap: 12px;\n",
              "    }\n",
              "\n",
              "    .colab-df-convert {\n",
              "      background-color: #E8F0FE;\n",
              "      border: none;\n",
              "      border-radius: 50%;\n",
              "      cursor: pointer;\n",
              "      display: none;\n",
              "      fill: #1967D2;\n",
              "      height: 32px;\n",
              "      padding: 0 0 0 0;\n",
              "      width: 32px;\n",
              "    }\n",
              "\n",
              "    .colab-df-convert:hover {\n",
              "      background-color: #E2EBFA;\n",
              "      box-shadow: 0px 1px 2px rgba(60, 64, 67, 0.3), 0px 1px 3px 1px rgba(60, 64, 67, 0.15);\n",
              "      fill: #174EA6;\n",
              "    }\n",
              "\n",
              "    .colab-df-buttons div {\n",
              "      margin-bottom: 4px;\n",
              "    }\n",
              "\n",
              "    [theme=dark] .colab-df-convert {\n",
              "      background-color: #3B4455;\n",
              "      fill: #D2E3FC;\n",
              "    }\n",
              "\n",
              "    [theme=dark] .colab-df-convert:hover {\n",
              "      background-color: #434B5C;\n",
              "      box-shadow: 0px 1px 3px 1px rgba(0, 0, 0, 0.15);\n",
              "      filter: drop-shadow(0px 1px 2px rgba(0, 0, 0, 0.3));\n",
              "      fill: #FFFFFF;\n",
              "    }\n",
              "  </style>\n",
              "\n",
              "    <script>\n",
              "      const buttonEl =\n",
              "        document.querySelector('#df-09a4742d-9a29-4ca7-9b43-34437d6dc4b0 button.colab-df-convert');\n",
              "      buttonEl.style.display =\n",
              "        google.colab.kernel.accessAllowed ? 'block' : 'none';\n",
              "\n",
              "      async function convertToInteractive(key) {\n",
              "        const element = document.querySelector('#df-09a4742d-9a29-4ca7-9b43-34437d6dc4b0');\n",
              "        const dataTable =\n",
              "          await google.colab.kernel.invokeFunction('convertToInteractive',\n",
              "                                                    [key], {});\n",
              "        if (!dataTable) return;\n",
              "\n",
              "        const docLinkHtml = 'Like what you see? Visit the ' +\n",
              "          '<a target=\"_blank\" href=https://colab.research.google.com/notebooks/data_table.ipynb>data table notebook</a>'\n",
              "          + ' to learn more about interactive tables.';\n",
              "        element.innerHTML = '';\n",
              "        dataTable['output_type'] = 'display_data';\n",
              "        await google.colab.output.renderOutput(dataTable, element);\n",
              "        const docLink = document.createElement('div');\n",
              "        docLink.innerHTML = docLinkHtml;\n",
              "        element.appendChild(docLink);\n",
              "      }\n",
              "    </script>\n",
              "  </div>\n",
              "\n",
              "\n",
              "    <div id=\"df-9fbd4dd5-1662-4529-be25-8b104e533ec1\">\n",
              "      <button class=\"colab-df-quickchart\" onclick=\"quickchart('df-9fbd4dd5-1662-4529-be25-8b104e533ec1')\"\n",
              "                title=\"Suggest charts\"\n",
              "                style=\"display:none;\">\n",
              "\n",
              "<svg xmlns=\"http://www.w3.org/2000/svg\" height=\"24px\"viewBox=\"0 0 24 24\"\n",
              "     width=\"24px\">\n",
              "    <g>\n",
              "        <path d=\"M19 3H5c-1.1 0-2 .9-2 2v14c0 1.1.9 2 2 2h14c1.1 0 2-.9 2-2V5c0-1.1-.9-2-2-2zM9 17H7v-7h2v7zm4 0h-2V7h2v10zm4 0h-2v-4h2v4z\"/>\n",
              "    </g>\n",
              "</svg>\n",
              "      </button>\n",
              "\n",
              "<style>\n",
              "  .colab-df-quickchart {\n",
              "      --bg-color: #E8F0FE;\n",
              "      --fill-color: #1967D2;\n",
              "      --hover-bg-color: #E2EBFA;\n",
              "      --hover-fill-color: #174EA6;\n",
              "      --disabled-fill-color: #AAA;\n",
              "      --disabled-bg-color: #DDD;\n",
              "  }\n",
              "\n",
              "  [theme=dark] .colab-df-quickchart {\n",
              "      --bg-color: #3B4455;\n",
              "      --fill-color: #D2E3FC;\n",
              "      --hover-bg-color: #434B5C;\n",
              "      --hover-fill-color: #FFFFFF;\n",
              "      --disabled-bg-color: #3B4455;\n",
              "      --disabled-fill-color: #666;\n",
              "  }\n",
              "\n",
              "  .colab-df-quickchart {\n",
              "    background-color: var(--bg-color);\n",
              "    border: none;\n",
              "    border-radius: 50%;\n",
              "    cursor: pointer;\n",
              "    display: none;\n",
              "    fill: var(--fill-color);\n",
              "    height: 32px;\n",
              "    padding: 0;\n",
              "    width: 32px;\n",
              "  }\n",
              "\n",
              "  .colab-df-quickchart:hover {\n",
              "    background-color: var(--hover-bg-color);\n",
              "    box-shadow: 0 1px 2px rgba(60, 64, 67, 0.3), 0 1px 3px 1px rgba(60, 64, 67, 0.15);\n",
              "    fill: var(--button-hover-fill-color);\n",
              "  }\n",
              "\n",
              "  .colab-df-quickchart-complete:disabled,\n",
              "  .colab-df-quickchart-complete:disabled:hover {\n",
              "    background-color: var(--disabled-bg-color);\n",
              "    fill: var(--disabled-fill-color);\n",
              "    box-shadow: none;\n",
              "  }\n",
              "\n",
              "  .colab-df-spinner {\n",
              "    border: 2px solid var(--fill-color);\n",
              "    border-color: transparent;\n",
              "    border-bottom-color: var(--fill-color);\n",
              "    animation:\n",
              "      spin 1s steps(1) infinite;\n",
              "  }\n",
              "\n",
              "  @keyframes spin {\n",
              "    0% {\n",
              "      border-color: transparent;\n",
              "      border-bottom-color: var(--fill-color);\n",
              "      border-left-color: var(--fill-color);\n",
              "    }\n",
              "    20% {\n",
              "      border-color: transparent;\n",
              "      border-left-color: var(--fill-color);\n",
              "      border-top-color: var(--fill-color);\n",
              "    }\n",
              "    30% {\n",
              "      border-color: transparent;\n",
              "      border-left-color: var(--fill-color);\n",
              "      border-top-color: var(--fill-color);\n",
              "      border-right-color: var(--fill-color);\n",
              "    }\n",
              "    40% {\n",
              "      border-color: transparent;\n",
              "      border-right-color: var(--fill-color);\n",
              "      border-top-color: var(--fill-color);\n",
              "    }\n",
              "    60% {\n",
              "      border-color: transparent;\n",
              "      border-right-color: var(--fill-color);\n",
              "    }\n",
              "    80% {\n",
              "      border-color: transparent;\n",
              "      border-right-color: var(--fill-color);\n",
              "      border-bottom-color: var(--fill-color);\n",
              "    }\n",
              "    90% {\n",
              "      border-color: transparent;\n",
              "      border-bottom-color: var(--fill-color);\n",
              "    }\n",
              "  }\n",
              "</style>\n",
              "\n",
              "      <script>\n",
              "        async function quickchart(key) {\n",
              "          const quickchartButtonEl =\n",
              "            document.querySelector('#' + key + ' button');\n",
              "          quickchartButtonEl.disabled = true;  // To prevent multiple clicks.\n",
              "          quickchartButtonEl.classList.add('colab-df-spinner');\n",
              "          try {\n",
              "            const charts = await google.colab.kernel.invokeFunction(\n",
              "                'suggestCharts', [key], {});\n",
              "          } catch (error) {\n",
              "            console.error('Error during call to suggestCharts:', error);\n",
              "          }\n",
              "          quickchartButtonEl.classList.remove('colab-df-spinner');\n",
              "          quickchartButtonEl.classList.add('colab-df-quickchart-complete');\n",
              "        }\n",
              "        (() => {\n",
              "          let quickchartButtonEl =\n",
              "            document.querySelector('#df-9fbd4dd5-1662-4529-be25-8b104e533ec1 button');\n",
              "          quickchartButtonEl.style.display =\n",
              "            google.colab.kernel.accessAllowed ? 'block' : 'none';\n",
              "        })();\n",
              "      </script>\n",
              "    </div>\n",
              "\n",
              "    </div>\n",
              "  </div>\n"
            ],
            "application/vnd.google.colaboratory.intrinsic+json": {
              "type": "dataframe",
              "variable_name": "rfm",
              "summary": "{\n  \"name\": \"rfm\",\n  \"rows\": 4338,\n  \"fields\": [\n    {\n      \"column\": \"CustomerID\",\n      \"properties\": {\n        \"dtype\": \"string\",\n        \"num_unique_values\": 4338,\n        \"samples\": [\n          \"17785.0\",\n          \"14320.0\",\n          \"15977.0\"\n        ],\n        \"semantic_type\": \"\",\n        \"description\": \"\"\n      }\n    },\n    {\n      \"column\": \"Recency\",\n      \"properties\": {\n        \"dtype\": \"number\",\n        \"std\": 100,\n        \"min\": 1,\n        \"max\": 374,\n        \"num_unique_values\": 349,\n        \"samples\": [\n          187,\n          118,\n          69\n        ],\n        \"semantic_type\": \"\",\n        \"description\": \"\"\n      }\n    },\n    {\n      \"column\": \"Frequency\",\n      \"properties\": {\n        \"dtype\": \"number\",\n        \"std\": 7,\n        \"min\": 1,\n        \"max\": 209,\n        \"num_unique_values\": 59,\n        \"samples\": [\n          1,\n          2,\n          62\n        ],\n        \"semantic_type\": \"\",\n        \"description\": \"\"\n      }\n    },\n    {\n      \"column\": \"TotalQuantity\",\n      \"properties\": {\n        \"dtype\": \"number\",\n        \"std\": 5043,\n        \"min\": 1,\n        \"max\": 196915,\n        \"num_unique_values\": 1749,\n        \"samples\": [\n          681,\n          2325,\n          4873\n        ],\n        \"semantic_type\": \"\",\n        \"description\": \"\"\n      }\n    },\n    {\n      \"column\": \"AvgUnitPrice\",\n      \"properties\": {\n        \"dtype\": \"number\",\n        \"std\": 34.215024335504914,\n        \"min\": 0.1225,\n        \"max\": 2033.1,\n        \"num_unique_values\": 4195,\n        \"samples\": [\n          3.354651162790698,\n          2.545945945945946,\n          5.2318181818181815\n        ],\n        \"semantic_type\": \"\",\n        \"description\": \"\"\n      }\n    },\n    {\n      \"column\": \"MonetaryValue\",\n      \"properties\": {\n        \"dtype\": \"number\",\n        \"std\": 8985.23022000829,\n        \"min\": 3.75,\n        \"max\": 280206.02,\n        \"num_unique_values\": 4256,\n        \"samples\": [\n          2794.51,\n          1980.56,\n          3450.41\n        ],\n        \"semantic_type\": \"\",\n        \"description\": \"\"\n      }\n    },\n    {\n      \"column\": \"Cluster\",\n      \"properties\": {\n        \"dtype\": \"int32\",\n        \"num_unique_values\": 4,\n        \"samples\": [\n          0,\n          2,\n          3\n        ],\n        \"semantic_type\": \"\",\n        \"description\": \"\"\n      }\n    }\n  ]\n}"
            }
          },
          "metadata": {},
          "execution_count": 14
        }
      ]
    },
    {
      "cell_type": "code",
      "source": [
        "# Count of customers per cluster\n",
        "rfm['Cluster'].value_counts().sort_index()\n"
      ],
      "metadata": {
        "colab": {
          "base_uri": "https://localhost:8080/",
          "height": 241
        },
        "id": "DapnGXL_Ss1h",
        "outputId": "89e45052-18c4-4c2f-9ca1-3b8ccb94d3fb"
      },
      "id": "DapnGXL_Ss1h",
      "execution_count": 15,
      "outputs": [
        {
          "output_type": "execute_result",
          "data": {
            "text/plain": [
              "Cluster\n",
              "0    3054\n",
              "1    1067\n",
              "2      13\n",
              "3     204\n",
              "Name: count, dtype: int64"
            ],
            "text/html": [
              "<div>\n",
              "<style scoped>\n",
              "    .dataframe tbody tr th:only-of-type {\n",
              "        vertical-align: middle;\n",
              "    }\n",
              "\n",
              "    .dataframe tbody tr th {\n",
              "        vertical-align: top;\n",
              "    }\n",
              "\n",
              "    .dataframe thead th {\n",
              "        text-align: right;\n",
              "    }\n",
              "</style>\n",
              "<table border=\"1\" class=\"dataframe\">\n",
              "  <thead>\n",
              "    <tr style=\"text-align: right;\">\n",
              "      <th></th>\n",
              "      <th>count</th>\n",
              "    </tr>\n",
              "    <tr>\n",
              "      <th>Cluster</th>\n",
              "      <th></th>\n",
              "    </tr>\n",
              "  </thead>\n",
              "  <tbody>\n",
              "    <tr>\n",
              "      <th>0</th>\n",
              "      <td>3054</td>\n",
              "    </tr>\n",
              "    <tr>\n",
              "      <th>1</th>\n",
              "      <td>1067</td>\n",
              "    </tr>\n",
              "    <tr>\n",
              "      <th>2</th>\n",
              "      <td>13</td>\n",
              "    </tr>\n",
              "    <tr>\n",
              "      <th>3</th>\n",
              "      <td>204</td>\n",
              "    </tr>\n",
              "  </tbody>\n",
              "</table>\n",
              "</div><br><label><b>dtype:</b> int64</label>"
            ]
          },
          "metadata": {},
          "execution_count": 15
        }
      ]
    },
    {
      "cell_type": "code",
      "source": [
        "# Visualize average values per cluster\n",
        "rfm.groupby('Cluster')[['Recency', 'Frequency', 'MonetaryValue']].mean().plot(kind='bar', figsize=(10, 6))\n",
        "plt.title(\"Average RFM Metrics per Cluster\")\n",
        "plt.ylabel(\"Value (original scale)\")\n",
        "plt.xticks(rotation=0)\n",
        "plt.show()\n"
      ],
      "metadata": {
        "colab": {
          "base_uri": "https://localhost:8080/",
          "height": 564
        },
        "id": "smdhpUcNSxy2",
        "outputId": "f495937a-dc13-4d74-dcf7-f3ba606c98f2"
      },
      "id": "smdhpUcNSxy2",
      "execution_count": 16,
      "outputs": [
        {
          "output_type": "display_data",
          "data": {
            "text/plain": [
              "<Figure size 1000x600 with 1 Axes>"
            ],
            "image/png": "[encoded data removed]"
          },
          "metadata": {}
        }
      ]
    },
    {
      "cell_type": "code",
      "source": [
        "X_classify = scaled_features   # Input features\n",
        "y_classify = rfm['Cluster']    # Target labels\n"
      ],
      "metadata": {
        "id": "qkCOg42ySX61"
      },
      "id": "qkCOg42ySX61",
      "execution_count": 11,
      "outputs": []
    },
    {
      "cell_type": "markdown",
      "source": [
        "## Clustering Output & Analysis\n",
        "\n",
        "### Cluster Assignment Summary\n",
        "\n",
        "After applying K-Means clustering with **k = 4**, each customer was assigned a cluster (0 to 3). Below is a sample of the resulting dataset:\n",
        "\n",
        "| CustomerID | Recency | Frequency | TotalQuantity | AvgUnitPrice | MonetaryValue | Cluster |\n",
        "|------------|---------|-----------|----------------|----------------|----------------|---------|\n",
        "| 12346.0    | 326     | 1         | 74215          | 1.04           | 77183.60       | 3       |\n",
        "| 12347.0    | 2       | 7         | 2458           | 2.64           | 4310.00        | 0       |\n",
        "| 12348.0    | 75      | 4         | 2341           | 5.76           | 1797.24        | 0       |\n",
        "| 12349.0    | 19      | 1         | 631            | 8.29           | 1757.55        | 0       |\n",
        "| 12350.0    | 310     | 1         | 197            | 3.84           | 334.40         | 1       |\n",
        "\n",
        "---\n",
        "\n",
        "### Cluster Distribution\n",
        "\n",
        "| Cluster | # Customers |\n",
        "|---------|-------------|\n",
        "| 0       | 3054        |\n",
        "| 1       | 1067        |\n",
        "| 2       | 13          |\n",
        "| 3       | 204         |\n",
        "\n",
        "- **Cluster 0** is the largest group, representing a majority of average or low-value customers.\n",
        "- **Cluster 2** is very small (only 13 customers), but likely contains **very high-value or outlier customers**.\n",
        "- **Cluster 3** may contain moderately high spenders with older purchase history.\n",
        "\n",
        "---\n",
        "\n",
        "### Cluster Profiling (RFM Averages)\n",
        "\n",
        "The bar chart below illustrates the average **Recency**, **Frequency**, and **MonetaryValue** for each cluster.\n",
        "\n",
        "- **Cluster 2** shows an exceptionally high average `MonetaryValue`, indicating VIP or bulk buyers.\n",
        "- **Cluster 3** also has high spenders but with much higher `Recency` (less recent activity).\n",
        "- **Cluster 0** appears to be recent, low-frequency, moderate-spending customers.\n",
        "- **Cluster 1** seems to represent long-lost or inactive customers with low engagement.\n",
        "\n",
        "These insights are vital for **targeted marketing**, such as:\n",
        "- Offering loyalty rewards to Cluster 2\n",
        "- Re-engagement campaigns for Cluster 1\n",
        "- Upselling or cross-selling to Cluster 0 and 3\n",
        "\n",
        "---\n",
        "\n",
        "The clustering labels are now ready to be used for supervised learning (classification) or personalized recommendation systems.\n"
      ],
      "metadata": {
        "id": "p3d73hgGTQ4d"
      },
      "id": "p3d73hgGTQ4d"
    },
    {
      "cell_type": "markdown",
      "source": [
        "# ML Capstone 1 - Part 3 E-Commerce Customer Segmentation"
      ],
      "metadata": {
        "id": "dWdz2mT1TkQv"
      },
      "id": "dWdz2mT1TkQv"
    },
    {
      "cell_type": "markdown",
      "source": [
        "## TODO\n",
        "\n",
        "### Clustering Algorithms for Customer Segmentation\n",
        "- Applying unsupervised learning algorithms (e.g., K-means clustering, Hierarchical clustering) to segment customers\n",
        "- Determining the optimal number of clusters using techniques such as the elbow method or silhouette score\n",
        "- Interpreting customer segments based on cluster characteristics and feature importance\n",
        "- Visualize the clusters using PCA\n",
        "\n",
        "### Classification for Segment Prediction (8 pts)\n",
        "- Using any of the supervised learning classification algorithms (e.g., Random Forest, Gradient Boosting, Logistic Regression) predict customer segments:\n",
        "\n",
        "    - Split the dataset into training, validation and test sets\n",
        "    - Training classification models to predict the segment to which a customer belongs\n",
        "    - Validating the classification model's performance and generalization using cross-validation techniques\n",
        "    - Evaluating model performance using appropriate metrics (e.g., accuracy, precision, recall, F1-score)\n",
        "    - Iteratively refining segmentation and classification strategies based on validation results and stakeholder feedback\n"
      ],
      "metadata": {
        "id": "Oe1mx8V2TmlU"
      },
      "id": "Oe1mx8V2TmlU"
    },
    {
      "cell_type": "markdown",
      "source": [
        "### Grading and Important Instructions\n",
        "- Each of the above steps are mandatory and should be completed in good faith\n",
        "- Make sure before submitting that the code is in fully working condition\n",
        "- It is fine to make use of ChatGPT, stackoverflow type resources, just provide the reference links from where you got it\n",
        "- Debugging is an art, if you find yourself stuck with errors, take help of stackoverflow and ChatGPT to resolve the issue and if it's still unresolved, reach out to me for help.\n",
        "- You need to score atleast 7/10 to pass the project, anything less than that will be marked required, needing resubmission.\n",
        "- Feedback will be provided on 3 levels (Awesome, Suggestion, & Required). Required changes are mandatory to be made.\n",
        "- For submission, please upload the project on github and share the link to the file with us through LMS."
      ],
      "metadata": {
        "id": "ji-pTQ4iTpbw"
      },
      "id": "ji-pTQ4iTpbw"
    },
    {
      "cell_type": "markdown",
      "source": [
        "#### Write your code below and do not delete the above instructions"
      ],
      "metadata": {
        "id": "YmcAEzjiTsd9"
      },
      "id": "YmcAEzjiTsd9"
    },
    {
      "cell_type": "code",
      "source": [
        "from sklearn.cluster import KMeans\n",
        "import matplotlib.pyplot as plt\n",
        "\n",
        "inertia = []\n",
        "K = range(1, 11)\n",
        "\n",
        "for k in K:\n",
        "    kmeans = KMeans(n_clusters=k, random_state=42)\n",
        "    kmeans.fit(scaled_features)\n",
        "    inertia.append(kmeans.inertia_)\n",
        "\n",
        "plt.figure(figsize=(8, 4))\n",
        "plt.plot(K, inertia, marker='o')\n",
        "plt.title('Elbow Method - Optimal k')\n",
        "plt.xlabel('Number of Clusters')\n",
        "plt.ylabel('Inertia')\n",
        "plt.grid(True)\n",
        "plt.show()\n"
      ],
      "metadata": {
        "colab": {
          "base_uri": "https://localhost:8080/",
          "height": 410
        },
        "id": "bVbT7zVpSavB",
        "outputId": "887133d2-28c0-4f77-9885-a16b2fd19d01"
      },
      "id": "bVbT7zVpSavB",
      "execution_count": 17,
      "outputs": [
        {
          "output_type": "display_data",
          "data": {
            "text/plain": [
              "<Figure size 800x400 with 1 Axes>"
            ],
            "image/png": "[encoded data removed]"
          },
          "metadata": {}
        }
      ]
    },
    {
      "cell_type": "code",
      "source": [
        "from sklearn.metrics import silhouette_score\n",
        "\n",
        "for k in range(2, 11):\n",
        "    kmeans = KMeans(n_clusters=k, random_state=42)\n",
        "    labels = kmeans.fit_predict(scaled_features)\n",
        "    score = silhouette_score(scaled_features, labels)\n",
        "    print(f\"Silhouette Score for k={k}: {score:.3f}\")\n"
      ],
      "metadata": {
        "colab": {
          "base_uri": "https://localhost:8080/"
        },
        "id": "tw6R3b1CTzne",
        "outputId": "a938e9b7-e770-4d19-d611-cf9205291ca7"
      },
      "id": "tw6R3b1CTzne",
      "execution_count": 18,
      "outputs": [
        {
          "output_type": "stream",
          "name": "stdout",
          "text": [
            "Silhouette Score for k=2: 0.560\n",
            "Silhouette Score for k=3: 0.585\n",
            "Silhouette Score for k=4: 0.616\n",
            "Silhouette Score for k=5: 0.617\n",
            "Silhouette Score for k=6: 0.598\n",
            "Silhouette Score for k=7: 0.517\n",
            "Silhouette Score for k=8: 0.491\n",
            "Silhouette Score for k=9: 0.478\n",
            "Silhouette Score for k=10: 0.445\n"
          ]
        }
      ]
    },
    {
      "cell_type": "code",
      "source": [
        "import scipy.cluster.hierarchy as sch\n",
        "from sklearn.cluster import AgglomerativeClustering\n",
        "\n",
        "# Plot dendrogram\n",
        "plt.figure(figsize=(10, 5))\n",
        "dendrogram = sch.dendrogram(sch.linkage(scaled_features, method='ward'))\n",
        "plt.title(\"Dendrogram - Hierarchical Clustering\")\n",
        "plt.xlabel(\"Customers\")\n",
        "plt.ylabel(\"Euclidean Distance\")\n",
        "plt.xticks([], [])  # removes labels\n",
        "\n",
        "plt.show()\n",
        "\n",
        "# Apply Agglomerative Clustering\n",
        "hc = AgglomerativeClustering(n_clusters=4)\n",
        "rfm['HC_Cluster'] = hc.fit_predict(scaled_features)\n"
      ],
      "metadata": {
        "colab": {
          "base_uri": "https://localhost:8080/",
          "height": 463
        },
        "id": "reDOawubT3j9",
        "outputId": "82a642e1-3b69-48dd-96ed-a27667da69fe"
      },
      "id": "reDOawubT3j9",
      "execution_count": 22,
      "outputs": [
        {
          "output_type": "display_data",
          "data": {
            "text/plain": [
              "<Figure size 1000x500 with 1 Axes>"
            ],
            "image/png": "[encoded data removed]"
          },
          "metadata": {}
        }
      ]
    },
    {
      "cell_type": "code",
      "source": [
        "from sklearn.decomposition import PCA\n",
        "\n",
        "pca = PCA(n_components=2)\n",
        "pca_features = pca.fit_transform(scaled_features)\n",
        "\n",
        "plt.figure(figsize=(8, 6))\n",
        "sns.scatterplot(x=pca_features[:, 0], y=pca_features[:, 1], hue=rfm['Cluster'], palette='Set2', s=60)\n",
        "plt.title(\"Customer Segments Visualized via PCA\")\n",
        "plt.xlabel(\"Principal Component 1\")\n",
        "plt.ylabel(\"Principal Component 2\")\n",
        "plt.legend(title='Cluster')\n",
        "plt.show()\n"
      ],
      "metadata": {
        "colab": {
          "base_uri": "https://localhost:8080/",
          "height": 564
        },
        "id": "_yDAGBJyT50B",
        "outputId": "3adababb-5f99-4e5e-b3d5-f3344c4b1fc6"
      },
      "id": "_yDAGBJyT50B",
      "execution_count": 20,
      "outputs": [
        {
          "output_type": "display_data",
          "data": {
            "text/plain": [
              "<Figure size 800x600 with 1 Axes>"
            ],
            "image/png": "[encoded data removed]"
          },
          "metadata": {}
        }
      ]
    },
    {
      "cell_type": "markdown",
      "source": [
        "## Part 3: Clustering Algorithms for Customer Segmentation 🤖\n",
        "\n",
        "###  1. Optimal Number of Clusters – Elbow Method\n",
        "\n",
        "To determine the most appropriate number of clusters (k), we used the **Elbow Method**, which plots the Within-Cluster Sum of Squares (inertia) against the number of clusters.\n",
        "\n",
        "As shown in the elbow plot, inertia significantly drops until **k = 4**, after which the reduction slows. This indicates that **4 clusters** is a good choice, balancing compactness and separation.\n",
        "\n",
        "---\n",
        "\n",
        "###  2. Silhouette Score for Cluster Validation\n",
        "\n",
        "We also used **Silhouette Score**, which measures how well each point fits within its cluster vs others (ranges from -1 to 1). Higher values indicate better-defined clusters.\n",
        "\n",
        "- Scores peaked at **k = 4** with a silhouette score of **0.617**, further validating our choice.\n",
        "- k = 2 and 3 were also reasonable but less informative in terms of customer diversity.\n",
        "\n",
        "---\n",
        "\n",
        "### 3. Hierarchical Clustering (Dendrogram)\n",
        "\n",
        "We applied **Agglomerative Hierarchical Clustering** using Ward linkage and visualized the **dendrogram**:\n",
        "\n",
        "- The x-axis represents individual customers.\n",
        "- The y-axis shows the **Euclidean distance** between merged clusters.\n",
        "- There are clear separations when cut at 4 levels, aligning with our K-means result.\n",
        "\n",
        "Note: The x-axis (customer index) was dense and unreadable due to high volume, but this is expected in real-world datasets.\n",
        "\n",
        "---\n",
        "\n",
        "### 4. PCA-Based Cluster Visualization\n",
        "\n",
        "To interpret the high-dimensional clustering visually, we reduced the scaled RFM features to **2 dimensions using PCA** and plotted them:\n",
        "\n",
        "- Each point represents a customer, colored by cluster.\n",
        "- Clear groupings emerged, especially for clusters 0 and 1.\n",
        "- Cluster 2 appears more spread out, likely representing high-value, unique-behavior customers.\n",
        "\n",
        "This visualization confirms that customers are meaningfully segmented and that our clustering captures real behavioral differences.\n",
        "\n",
        "---\n",
        "\n",
        " With the clustering completed and validated, we are now ready to:\n",
        "- Analyze each segment for business insights\n",
        "- Build a classification model to predict segments\n",
        "- Or implement a recommendation system within segments\n"
      ],
      "metadata": {
        "id": "1WY0aFjIUWby"
      },
      "id": "1WY0aFjIUWby"
    },
    {
      "cell_type": "code",
      "source": [
        "# Features and labels\n",
        "X = X_classify  # already scaled features\n",
        "y = y_classify  # cluster labels\n",
        "from sklearn.model_selection import train_test_split\n",
        "\n",
        "# Split into train (60%), validation (20%), test (20%)\n",
        "X_train, X_temp, y_train, y_temp = train_test_split(X, y, test_size=0.4, random_state=42, stratify=y)\n",
        "X_val, X_test, y_val, y_test = train_test_split(X_temp, y_temp, test_size=0.5, random_state=42, stratify=y_temp)\n"
      ],
      "metadata": {
        "id": "vI9X87D9VFrn"
      },
      "id": "vI9X87D9VFrn",
      "execution_count": 23,
      "outputs": []
    },
    {
      "cell_type": "code",
      "source": [
        "from sklearn.ensemble import RandomForestClassifier\n",
        "from sklearn.metrics import classification_report, confusion_matrix, accuracy_score\n",
        "\n",
        "# Initialize and train\n",
        "rf_model = RandomForestClassifier(n_estimators=100, random_state=42)\n",
        "rf_model.fit(X_train, y_train)\n",
        "\n",
        "# Predict on validation set\n",
        "y_val_pred = rf_model.predict(X_val)\n",
        "# Validation performance\n",
        "print(\"Validation Accuracy:\", accuracy_score(y_val, y_val_pred))\n",
        "print(\"\\nClassification Report:\\n\", classification_report(y_val, y_val_pred))\n",
        "print(\"\\nConfusion Matrix:\\n\", confusion_matrix(y_val, y_val_pred))\n"
      ],
      "metadata": {
        "colab": {
          "base_uri": "https://localhost:8080/"
        },
        "id": "LlqZg2rjT_Ni",
        "outputId": "914008b9-4650-4076-f84e-91dfc59f8e2b"
      },
      "id": "LlqZg2rjT_Ni",
      "execution_count": 24,
      "outputs": [
        {
          "output_type": "stream",
          "name": "stdout",
          "text": [
            "Validation Accuracy: 0.9942396313364056\n",
            "\n",
            "Classification Report:\n",
            "               precision    recall  f1-score   support\n",
            "\n",
            "           0       1.00      1.00      1.00       611\n",
            "           1       1.00      1.00      1.00       213\n",
            "           2       0.00      0.00      0.00         3\n",
            "           3       0.93      1.00      0.96        41\n",
            "\n",
            "    accuracy                           0.99       868\n",
            "   macro avg       0.73      0.75      0.74       868\n",
            "weighted avg       0.99      0.99      0.99       868\n",
            "\n",
            "\n",
            "Confusion Matrix:\n",
            " [[609   1   0   1]\n",
            " [  0 213   0   0]\n",
            " [  1   0   0   2]\n",
            " [  0   0   0  41]]\n"
          ]
        },
        {
          "output_type": "stream",
          "name": "stderr",
          "text": [
            "/usr/local/lib/python3.11/dist-packages/sklearn/metrics/_classification.py:1565: UndefinedMetricWarning: Precision is ill-defined and being set to 0.0 in labels with no predicted samples. Use `zero_division` parameter to control this behavior.\n",
            "  _warn_prf(average, modifier, f\"{metric.capitalize()} is\", len(result))\n",
            "/usr/local/lib/python3.11/dist-packages/sklearn/metrics/_classification.py:1565: UndefinedMetricWarning: Precision is ill-defined and being set to 0.0 in labels with no predicted samples. Use `zero_division` parameter to control this behavior.\n",
            "  _warn_prf(average, modifier, f\"{metric.capitalize()} is\", len(result))\n",
            "/usr/local/lib/python3.11/dist-packages/sklearn/metrics/_classification.py:1565: UndefinedMetricWarning: Precision is ill-defined and being set to 0.0 in labels with no predicted samples. Use `zero_division` parameter to control this behavior.\n",
            "  _warn_prf(average, modifier, f\"{metric.capitalize()} is\", len(result))\n"
          ]
        }
      ]
    },
    {
      "cell_type": "code",
      "source": [
        "from sklearn.model_selection import cross_val_score\n",
        "\n",
        "# 5-fold CV on training set\n",
        "cv_scores = cross_val_score(rf_model, X_train, y_train, cv=5)\n",
        "print(\"Cross-Validation Accuracy Scores:\", cv_scores)\n",
        "print(\"Average CV Accuracy:\", cv_scores.mean())\n"
      ],
      "metadata": {
        "colab": {
          "base_uri": "https://localhost:8080/"
        },
        "id": "c5oQ1Sn6VMlZ",
        "outputId": "003ff9c7-0764-4223-b284-269f6433352e"
      },
      "id": "c5oQ1Sn6VMlZ",
      "execution_count": 25,
      "outputs": [
        {
          "output_type": "stream",
          "name": "stdout",
          "text": [
            "Cross-Validation Accuracy Scores: [0.99616123 0.99808061 0.99807692 0.99230769 0.99230769]\n",
            "Average CV Accuracy: 0.9953868300605345\n"
          ]
        }
      ]
    },
    {
      "cell_type": "markdown",
      "source": [
        "## Part 4: Classification for Segment Prediction 🧠\n",
        "\n",
        "###  Objective\n",
        "\n",
        "We trained a **Random Forest Classifier** to predict the customer segment (cluster) using Recency, Frequency, and Monetary Value features. This enables automatic classification of new or existing customers into behavioral segments.\n",
        "\n",
        "---\n",
        "\n",
        "### Dataset Split\n",
        "\n",
        "- **60% Training**\n",
        "- **20% Validation**\n",
        "- **20% Test**\n",
        "- Stratified sampling ensured balanced representation across clusters.\n",
        "\n",
        "---\n",
        "\n",
        "###  Model: Random Forest Classifier\n",
        "\n",
        "We chose Random Forest due to its robustness and ability to handle non-linear patterns well without extensive tuning.\n",
        "\n",
        "####  Validation Results:\n",
        "\n",
        "- **Accuracy**: `99.42%`\n",
        "- **Precision & Recall**: Very high for Clusters 0, 1, and 3\n",
        "- **Cluster 2**: Extremely small size (only 3 samples), which led to low prediction accuracy\n",
        "\n",
        "> Note: The classifier could not predict Cluster 2 accurately because it had very few training examples (a common issue with imbalanced clustering outputs).\n",
        "\n",
        "####  Classification Report:\n",
        "\n",
        "| Cluster | Precision | Recall | F1-score |\n",
        "|---------|-----------|--------|----------|\n",
        "| 0       | 1.00      | 1.00   | 1.00     |\n",
        "| 1       | 1.00      | 1.00   | 1.00     |\n",
        "| 2       | 0.00      | 0.00   | 0.00     |\n",
        "| 3       | 0.93      | 1.00   | 0.96     |\n",
        "\n",
        "\n"
      ],
      "metadata": {
        "id": "FcpNpqVOVb6h"
      },
      "id": "FcpNpqVOVb6h"
    }
  ],
  "metadata": {
    "kernelspec": {
      "display_name": "Python 3",
      "name": "python3"
    },
    "language_info": {
      "codemirror_mode": {
        "name": "ipython",
        "version": 3
      },
      "file_extension": ".py",
      "mimetype": "text/x-python",
      "name": "python",
      "nbconvert_exporter": "python",
      "pygments_lexer": "ipython3",
      "version": "3.9.7"
    },
    "colab": {
      "provenance": [],
      "gpuType": "T4",
      "include_colab_link": true
    },
    "accelerator": "GPU"
  },
  "nbformat": 4,
  "nbformat_minor": 5
}